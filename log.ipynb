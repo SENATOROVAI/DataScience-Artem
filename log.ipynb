{
 "cells": [
  {
   "cell_type": "markdown",
   "metadata": {},
   "source": [
    "15.03.2024\n",
    "1) что делали\n",
    "2) изучали гитхаб\n",
    "3) форк - это клонирование чужого репозитория себе\n",
    "4) пул реквест - предложение внести изменения в репозиторий \n",
    "5) star - сохранить репозиторий как favorite"
   ]
  }
 ],
 "metadata": {
  "language_info": {
   "name": "python"
  }
 },
 "nbformat": 4,
 "nbformat_minor": 2
}
