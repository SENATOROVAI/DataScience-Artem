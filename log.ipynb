{
 "cells": [
  {
   "cell_type": "markdown",
   "metadata": {},
   "source": [
    "дата урока\n",
    "1) что делали\n",
    "2) изучали гитхаб\n",
    "3) форк - это колинирование чужого репозитория...\n",
    "4)\n",
    "5)"
   ]
  }
 ],
 "metadata": {
  "language_info": {
   "name": "python"
  }
 },
 "nbformat": 4,
 "nbformat_minor": 2
}
