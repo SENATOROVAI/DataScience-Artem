{
 "cells": [
  {
   "cell_type": "markdown",
   "metadata": {},
   "source": [
    "algorythms of pullrequest\n",
    "-fork\n",
    "-clone to PC\n",
    "-make edit file\n",
    "-make commit\n",
    "-make push\n",
    "-enter to github\n",
    "-push button \"Pull request\" "
   ]
  }
 ],
 "metadata": {
  "kernelspec": {
   "display_name": "Python 3",
   "language": "python",
   "name": "python3"
  },
  "language_info": {
   "name": "python",
   "version": "3.11.3"
  }
 },
 "nbformat": 4,
 "nbformat_minor": 2
}
